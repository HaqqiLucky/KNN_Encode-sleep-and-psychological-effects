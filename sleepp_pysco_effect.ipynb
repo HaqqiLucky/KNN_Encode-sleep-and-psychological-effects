{
 "cells": [
  {
   "cell_type": "markdown",
   "metadata": {},
   "source": [
    "Supervised KNN\n",
    "let the csv posses this fileee"
   ]
  },
  {
   "cell_type": "code",
   "execution_count": 26,
   "metadata": {},
   "outputs": [
    {
     "name": "stdout",
     "output_type": "stream",
     "text": [
      "<class 'pandas.core.frame.DataFrame'>\n",
      "RangeIndex: 65 entries, 0 to 64\n",
      "Data columns (total 6 columns):\n",
      " #   Column                      Non-Null Count  Dtype \n",
      "---  ------                      --------------  ----- \n",
      " 0   User_ID                     65 non-null     int64 \n",
      " 1   Age                         65 non-null     int64 \n",
      " 2   Gender                      65 non-null     object\n",
      " 3   Favorite_Book_Genre         65 non-null     object\n",
      " 4   Weekly_Reading_Time(hours)  65 non-null     int64 \n",
      " 5   Mood_Impact                 65 non-null     object\n",
      "dtypes: int64(3), object(3)\n",
      "memory usage: 3.2+ KB\n",
      "None\n",
      "User_ID                       0\n",
      "Age                           0\n",
      "Gender                        0\n",
      "Favorite_Book_Genre           0\n",
      "Weekly_Reading_Time(hours)    0\n",
      "Mood_Impact                   0\n",
      "dtype: int64\n",
      "        User_ID        Age  Weekly_Reading_Time(hours)\n",
      "count  65.00000  65.000000                   65.000000\n",
      "mean   33.00000  33.000000                    4.646154\n",
      "std    18.90767   9.429011                    2.718172\n",
      "min     1.00000  18.000000                    1.000000\n",
      "25%    17.00000  25.000000                    2.000000\n",
      "50%    33.00000  32.000000                    5.000000\n",
      "75%    49.00000  41.000000                    7.000000\n",
      "max    65.00000  50.000000                   10.000000\n",
      "    User_ID  Age Gender Favorite_Book_Genre  Weekly_Reading_Time(hours)  \\\n",
      "0         1   24      f             Fiction                           6   \n",
      "1         2   32      m             Science                           2   \n",
      "2         3   18      f             Romance                           8   \n",
      "3         4   45      m             History                           3   \n",
      "4         5   29      f             Fantasy                          10   \n",
      "..      ...  ...    ...                 ...                         ...   \n",
      "60       61   35      f             Romance                           8   \n",
      "61       62   20      m             Fantasy                           9   \n",
      "62       63   33      f             Science                           1   \n",
      "63       64   30      m           Self-Help                           6   \n",
      "64       65   44      f             History                           3   \n",
      "\n",
      "   Mood_Impact  \n",
      "0     Positive  \n",
      "1      Neutral  \n",
      "2     Positive  \n",
      "3      Neutral  \n",
      "4     Positive  \n",
      "..         ...  \n",
      "60    Positive  \n",
      "61    Positive  \n",
      "62    Negative  \n",
      "63    Positive  \n",
      "64     Neutral  \n",
      "\n",
      "[65 rows x 6 columns]\n"
     ]
    }
   ],
   "source": [
    "import pandas as pd\n",
    "\n",
    "df = pd.read_csv(\"sleep and psychological effects.csv\")\n",
    "print (df.info())\n",
    "print (df.isna().sum())\n",
    "print (df.describe())\n",
    "print (df)"
   ]
  },
  {
   "cell_type": "markdown",
   "metadata": {},
   "source": [
    "lets check the outliers"
   ]
  },
  {
   "cell_type": "code",
   "execution_count": 27,
   "metadata": {},
   "outputs": [
    {
     "data": {
      "image/png": "[encoded data removed]",
      "text/plain": [
       "<Figure size 1200x600 with 1 Axes>"
      ]
     },
     "metadata": {},
     "output_type": "display_data"
    }
   ],
   "source": [
    "import seaborn as sns\n",
    "import matplotlib.pyplot as plt\n",
    "\n",
    "plt.figure(figsize=(12,6))\n",
    "sns.boxplot(data = df, orient=\"h\", palette=\"Set2\")\n",
    "plt.title(\"Cek outliers\")\n",
    "plt.show()"
   ]
  },
  {
   "cell_type": "markdown",
   "metadata": {},
   "source": [
    "i forgot to encode the rest.. well lets learn how to encode... here i will use one hot encoding for the genre, and label encode for gender and mood impact"
   ]
  },
  {
   "cell_type": "markdown",
   "metadata": {},
   "source": [
    "now i will see the genre first.. here i use unique for sort all the genre without loop\n",
    "then i use value_counts to sum all the genre based on their uniques hehe"
   ]
  },
  {
   "cell_type": "code",
   "execution_count": 28,
   "metadata": {},
   "outputs": [
    {
     "name": "stdout",
     "output_type": "stream",
     "text": [
      "['Fiction' 'Science' 'Romance' 'History' 'Fantasy' 'Biography' 'Self-Help']\n",
      "Favorite_Book_Genre\n",
      "Fiction      11\n",
      "Fantasy      11\n",
      "Science      10\n",
      "Self-Help    10\n",
      "Romance       9\n",
      "Biography     8\n",
      "History       6\n",
      "Name: count, dtype: int64\n",
      "    User_ID  Age Gender Favorite_Book_Genre  Weekly_Reading_Time(hours)  \\\n",
      "0         1   24      f             Fiction                           6   \n",
      "1         2   32      m             Science                           2   \n",
      "2         3   18      f             Romance                           8   \n",
      "3         4   45      m             History                           3   \n",
      "4         5   29      f             Fantasy                          10   \n",
      "..      ...  ...    ...                 ...                         ...   \n",
      "60       61   35      f             Romance                           8   \n",
      "61       62   20      m             Fantasy                           9   \n",
      "62       63   33      f             Science                           1   \n",
      "63       64   30      m           Self-Help                           6   \n",
      "64       65   44      f             History                           3   \n",
      "\n",
      "   Mood_Impact  \n",
      "0     Positive  \n",
      "1      Neutral  \n",
      "2     Positive  \n",
      "3      Neutral  \n",
      "4     Positive  \n",
      "..         ...  \n",
      "60    Positive  \n",
      "61    Positive  \n",
      "62    Negative  \n",
      "63    Positive  \n",
      "64     Neutral  \n",
      "\n",
      "[65 rows x 6 columns]\n"
     ]
    }
   ],
   "source": [
    "print (df[\"Favorite_Book_Genre\"].unique())\n",
    "print (df[\"Favorite_Book_Genre\"].value_counts())\n",
    "print (df)"
   ]
  },
  {
   "cell_type": "markdown",
   "metadata": {},
   "source": [
    "why my book genre is still number i already command it"
   ]
  },
  {
   "cell_type": "code",
   "execution_count": 29,
   "metadata": {},
   "outputs": [
    {
     "name": "stdout",
     "output_type": "stream",
     "text": [
      "    User_ID  Age Gender Favorite_Book_Genre  Weekly_Reading_Time(hours)  \\\n",
      "0         1   24      f             Fiction                           6   \n",
      "1         2   32      m             Science                           2   \n",
      "2         3   18      f             Romance                           8   \n",
      "3         4   45      m             History                           3   \n",
      "4         5   29      f             Fantasy                          10   \n",
      "..      ...  ...    ...                 ...                         ...   \n",
      "60       61   35      f             Romance                           8   \n",
      "61       62   20      m             Fantasy                           9   \n",
      "62       63   33      f             Science                           1   \n",
      "63       64   30      m           Self-Help                           6   \n",
      "64       65   44      f             History                           3   \n",
      "\n",
      "   Mood_Impact  \n",
      "0     Positive  \n",
      "1      Neutral  \n",
      "2     Positive  \n",
      "3      Neutral  \n",
      "4     Positive  \n",
      "..         ...  \n",
      "60    Positive  \n",
      "61    Positive  \n",
      "62    Negative  \n",
      "63    Positive  \n",
      "64     Neutral  \n",
      "\n",
      "[65 rows x 6 columns]\n"
     ]
    }
   ],
   "source": [
    "print (df)"
   ]
  },
  {
   "cell_type": "markdown",
   "metadata": {},
   "source": [
    "you know? i ask chat gpt to encode it with tensorflow... which i just ever heard of it but i havent ever use it before... so maybe yea... you got special treatment genre"
   ]
  },
  {
   "cell_type": "code",
   "execution_count": 30,
   "metadata": {},
   "outputs": [],
   "source": [
    "# from sklearn.preprocessing import LabelEncoder\n",
    "\n",
    "# label_encoder = LabelEncoder()\n",
    "# df[\"Favorite_Book_Genre\"] = label_encoder.fit_transform(df[\"Favorite_Book_Genre\"])\n",
    "# print(df[\"Favorite_Book_Genre\"])"
   ]
  },
  {
   "cell_type": "markdown",
   "metadata": {},
   "source": [
    "here we goo tensorfloww"
   ]
  },
  {
   "cell_type": "code",
   "execution_count": 31,
   "metadata": {},
   "outputs": [],
   "source": [
    "# import ten\n"
   ]
  },
  {
   "cell_type": "markdown",
   "metadata": {},
   "source": [
    "alr maybe later i cant install it"
   ]
  },
  {
   "cell_type": "markdown",
   "metadata": {},
   "source": [
    "i will use one hot encoding even it will add 7 columns.. but i need time to mark new file"
   ]
  },
  {
   "cell_type": "code",
   "execution_count": 32,
   "metadata": {},
   "outputs": [
    {
     "name": "stdout",
     "output_type": "stream",
     "text": [
      "    User_ID  Age Gender Favorite_Book_Genre  Weekly_Reading_Time(hours)  \\\n",
      "0         1   24      f             Fiction                           6   \n",
      "1         2   32      m             Science                           2   \n",
      "2         3   18      f             Romance                           8   \n",
      "3         4   45      m             History                           3   \n",
      "4         5   29      f             Fantasy                          10   \n",
      "..      ...  ...    ...                 ...                         ...   \n",
      "60       61   35      f             Romance                           8   \n",
      "61       62   20      m             Fantasy                           9   \n",
      "62       63   33      f             Science                           1   \n",
      "63       64   30      m           Self-Help                           6   \n",
      "64       65   44      f             History                           3   \n",
      "\n",
      "   Mood_Impact  \n",
      "0     Positive  \n",
      "1      Neutral  \n",
      "2     Positive  \n",
      "3      Neutral  \n",
      "4     Positive  \n",
      "..         ...  \n",
      "60    Positive  \n",
      "61    Positive  \n",
      "62    Negative  \n",
      "63    Positive  \n",
      "64     Neutral  \n",
      "\n",
      "[65 rows x 6 columns]\n",
      "--------------------------------------------------------\n",
      "    Genre_Biography  Genre_Fantasy  Genre_Fiction  Genre_History  \\\n",
      "0                 0              0              1              0   \n",
      "1                 0              0              0              0   \n",
      "2                 0              0              0              0   \n",
      "3                 0              0              0              1   \n",
      "4                 0              1              0              0   \n",
      "..              ...            ...            ...            ...   \n",
      "60                0              0              0              0   \n",
      "61                0              1              0              0   \n",
      "62                0              0              0              0   \n",
      "63                0              0              0              0   \n",
      "64                0              0              0              1   \n",
      "\n",
      "    Genre_Romance  Genre_Science  Genre_Self-Help  \n",
      "0               0              0                0  \n",
      "1               0              1                0  \n",
      "2               1              0                0  \n",
      "3               0              0                0  \n",
      "4               0              0                0  \n",
      "..            ...            ...              ...  \n",
      "60              1              0                0  \n",
      "61              0              0                0  \n",
      "62              0              1                0  \n",
      "63              0              0                1  \n",
      "64              0              0                0  \n",
      "\n",
      "[65 rows x 7 columns]\n",
      "--------------------------------------------------------\n",
      "    User_ID  Age Gender Favorite_Book_Genre  Weekly_Reading_Time(hours)  \\\n",
      "0         1   24      f             Fiction                           6   \n",
      "1         2   32      m             Science                           2   \n",
      "2         3   18      f             Romance                           8   \n",
      "3         4   45      m             History                           3   \n",
      "4         5   29      f             Fantasy                          10   \n",
      "..      ...  ...    ...                 ...                         ...   \n",
      "60       61   35      f             Romance                           8   \n",
      "61       62   20      m             Fantasy                           9   \n",
      "62       63   33      f             Science                           1   \n",
      "63       64   30      m           Self-Help                           6   \n",
      "64       65   44      f             History                           3   \n",
      "\n",
      "   Mood_Impact  Genre_Biography  Genre_Fantasy  Genre_Fiction  Genre_History  \\\n",
      "0     Positive                0              0              1              0   \n",
      "1      Neutral                0              0              0              0   \n",
      "2     Positive                0              0              0              0   \n",
      "3      Neutral                0              0              0              1   \n",
      "4     Positive                0              1              0              0   \n",
      "..         ...              ...            ...            ...            ...   \n",
      "60    Positive                0              0              0              0   \n",
      "61    Positive                0              1              0              0   \n",
      "62    Negative                0              0              0              0   \n",
      "63    Positive                0              0              0              0   \n",
      "64     Neutral                0              0              0              1   \n",
      "\n",
      "    Genre_Romance  Genre_Science  Genre_Self-Help  \n",
      "0               0              0                0  \n",
      "1               0              1                0  \n",
      "2               1              0                0  \n",
      "3               0              0                0  \n",
      "4               0              0                0  \n",
      "..            ...            ...              ...  \n",
      "60              1              0                0  \n",
      "61              0              0                0  \n",
      "62              0              1                0  \n",
      "63              0              0                1  \n",
      "64              0              0                0  \n",
      "\n",
      "[65 rows x 13 columns]\n"
     ]
    }
   ],
   "source": [
    "from datetime import datetime\n",
    "current_time = datetime.now().strftime(\"%Y-%m-%d_%H-$M-%S\")\n",
    "\n",
    "print (df)\n",
    "print (\"--------------------------------------------------------\")\n",
    "\n",
    "df_for_genre = df[[\"Favorite_Book_Genre\"]]\n",
    "\n",
    "df_encoded_genre = pd.get_dummies(df_for_genre, columns=[\"Favorite_Book_Genre\"],prefix=\"Genre\").astype(bool)\n",
    "df_encoded_number_plss = df_encoded_genre.astype(int)\n",
    "print (df_encoded_number_plss)\n",
    "\n",
    "# df = pd.concat([df, df_encoded_genre], axis=1)\n",
    "# # df.drop(columns=[\"Favorite_Book_Genre\"], inplace=True)\n",
    "df_encoded_number_plss = df_encoded_number_plss.loc [:, ~df_encoded_number_plss.columns.duplicated()]\n",
    "# # df_smile = df.drop(columns=[\"User_Id\", \"Age\", \"Gender\",\"Weekly_Reading_Time(Hours)\", \"Mood_Impact\"] )\n",
    "# # df_smile = df_smile.astype(int)\n",
    "df_clean_final = pd.concat([df, df_encoded_number_plss], axis=1)\n",
    "df_clean_finally = df_clean_final.drop(columns=[\"Favorite_Book_Genre\"])\n",
    "df_clean_finally.to_csv(f\"ENDAll_EncodedBookGenre{current_time}.csv\", index= False)\n",
    "print (\"--------------------------------------------------------\")\n",
    "print (df_clean_final)\n",
    "\n"
   ]
  },
  {
   "cell_type": "markdown",
   "metadata": {},
   "source": [
    "i think its done like that, after this we gonna convert the gender and mood impact... this one i will use label encoding bcs in gender, male and female arent same... we only use one hot encoding (dummies) to category or something arent ordinal... but this one i mean if you male or female are effectting the target.. either the mood impact\n",
    "\n",
    "\n",
    "edit : alhamdulillah"
   ]
  },
  {
   "cell_type": "markdown",
   "metadata": {},
   "source": [
    "i will use df now"
   ]
  },
  {
   "cell_type": "code",
   "execution_count": 33,
   "metadata": {},
   "outputs": [
    {
     "name": "stdout",
     "output_type": "stream",
     "text": [
      "0     0\n",
      "1     1\n",
      "2     0\n",
      "3     1\n",
      "4     0\n",
      "     ..\n",
      "60    0\n",
      "61    1\n",
      "62    0\n",
      "63    1\n",
      "64    0\n",
      "Name: Gender, Length: 65, dtype: int64\n",
      "--------------------------------------\n",
      "0     2\n",
      "1     1\n",
      "2     2\n",
      "3     1\n",
      "4     2\n",
      "     ..\n",
      "60    2\n",
      "61    2\n",
      "62    0\n",
      "63    2\n",
      "64    1\n",
      "Name: Mood_Impact, Length: 65, dtype: int64\n",
      "--------------------------------------\n",
      "    User_ID  Age  Gender  Weekly_Reading_Time(hours)  Mood_Impact  \\\n",
      "0         1   24       0                           6            2   \n",
      "1         2   32       1                           2            1   \n",
      "2         3   18       0                           8            2   \n",
      "3         4   45       1                           3            1   \n",
      "4         5   29       0                          10            2   \n",
      "..      ...  ...     ...                         ...          ...   \n",
      "60       61   35       0                           8            2   \n",
      "61       62   20       1                           9            2   \n",
      "62       63   33       0                           1            0   \n",
      "63       64   30       1                           6            2   \n",
      "64       65   44       0                           3            1   \n",
      "\n",
      "    Genre_Biography  Genre_Fantasy  Genre_Fiction  Genre_History  \\\n",
      "0                 0              0              1              0   \n",
      "1                 0              0              0              0   \n",
      "2                 0              0              0              0   \n",
      "3                 0              0              0              1   \n",
      "4                 0              1              0              0   \n",
      "..              ...            ...            ...            ...   \n",
      "60                0              0              0              0   \n",
      "61                0              1              0              0   \n",
      "62                0              0              0              0   \n",
      "63                0              0              0              0   \n",
      "64                0              0              0              1   \n",
      "\n",
      "    Genre_Romance  Genre_Science  Genre_Self-Help  \n",
      "0               0              0                0  \n",
      "1               0              1                0  \n",
      "2               1              0                0  \n",
      "3               0              0                0  \n",
      "4               0              0                0  \n",
      "..            ...            ...              ...  \n",
      "60              1              0                0  \n",
      "61              0              0                0  \n",
      "62              0              1                0  \n",
      "63              0              0                1  \n",
      "64              0              0                0  \n",
      "\n",
      "[65 rows x 12 columns]\n"
     ]
    }
   ],
   "source": [
    "from sklearn.preprocessing import LabelEncoder\n",
    "\n",
    "df = df_clean_finally\n",
    "\n",
    "encoder = LabelEncoder()\n",
    "df[\"Gender\"] = encoder.fit_transform(df[\"Gender\"])\n",
    "df[\"Mood_Impact\"] = encoder.fit_transform(df[\"Mood_Impact\"])\n",
    "\n",
    "print (df[\"Gender\"])\n",
    "print (\"--------------------------------------\")\n",
    "print (df[\"Mood_Impact\"])\n",
    "print (\"--------------------------------------\")\n",
    "print (df)"
   ]
  },
  {
   "cell_type": "markdown",
   "metadata": {},
   "source": [
    "alr done we got female = 0 and male = 1, also in mood we got positive = 2, neutral = 1, and negative is 0\n",
    "\n",
    "edit : alr done"
   ]
  },
  {
   "cell_type": "markdown",
   "metadata": {},
   "source": [
    "lets normalized"
   ]
  },
  {
   "cell_type": "code",
   "execution_count": 34,
   "metadata": {},
   "outputs": [
    {
     "name": "stdout",
     "output_type": "stream",
     "text": [
      "    User_ID       Age  Gender  Weekly_Reading_Time(hours)  Mood_Impact  \\\n",
      "0         1 -0.961929       0                    0.501948            2   \n",
      "1         2 -0.106881       1                   -0.981081            1   \n",
      "2         3 -1.603215       0                    1.243463            2   \n",
      "3         4  1.282572       1                   -0.610324            1   \n",
      "4         5 -0.427524       0                    1.984977            2   \n",
      "..      ...       ...     ...                         ...          ...   \n",
      "60       61  0.213762       0                    1.243463            2   \n",
      "61       62 -1.389453       1                    1.614220            2   \n",
      "62       63  0.000000       0                   -1.351838            0   \n",
      "63       64 -0.320643       1                    0.501948            2   \n",
      "64       65  1.175691       0                   -0.610324            1   \n",
      "\n",
      "    Genre_Biography  Genre_Fantasy  Genre_Fiction  Genre_History  \\\n",
      "0                 0              0              1              0   \n",
      "1                 0              0              0              0   \n",
      "2                 0              0              0              0   \n",
      "3                 0              0              0              1   \n",
      "4                 0              1              0              0   \n",
      "..              ...            ...            ...            ...   \n",
      "60                0              0              0              0   \n",
      "61                0              1              0              0   \n",
      "62                0              0              0              0   \n",
      "63                0              0              0              0   \n",
      "64                0              0              0              1   \n",
      "\n",
      "    Genre_Romance  Genre_Science  Genre_Self-Help  \n",
      "0               0              0                0  \n",
      "1               0              1                0  \n",
      "2               1              0                0  \n",
      "3               0              0                0  \n",
      "4               0              0                0  \n",
      "..            ...            ...              ...  \n",
      "60              1              0                0  \n",
      "61              0              0                0  \n",
      "62              0              1                0  \n",
      "63              0              0                1  \n",
      "64              0              0                0  \n",
      "\n",
      "[65 rows x 12 columns]\n"
     ]
    }
   ],
   "source": [
    "from sklearn.preprocessing import StandardScaler\n",
    "import pandas as pd\n",
    "\n",
    "df = pd.read_csv(\"ENDAll_EncodedBookGenre2025-01-16_18-$M-52.csv\")\n",
    "\n",
    "scaler = StandardScaler()\n",
    "need_to_scale = df[[\"Age\",\"Weekly_Reading_Time(hours)\"]]\n",
    "df_normalized = scaler.fit_transform(need_to_scale)\n",
    "\n",
    "df_normalized = pd.DataFrame(df_normalized, columns=need_to_scale.columns)\n",
    "# df_normalized = pd.concat([df.drop(columns=need_to_scale),df_normalized])\n",
    "df[\"Age\"] = df_normalized[\"Age\"]\n",
    "df[\"Weekly_Reading_Time(hours)\"] = df_normalized[\"Weekly_Reading_Time(hours)\"]\n",
    "print (df)\n",
    "df.to_csv(f\"ScaledAgeanndHours {current_time}.csv\", index=False)"
   ]
  },
  {
   "cell_type": "markdown",
   "metadata": {},
   "source": [
    "Done"
   ]
  },
  {
   "cell_type": "markdown",
   "metadata": {},
   "source": [
    "first seperate the target and the features"
   ]
  },
  {
   "cell_type": "code",
   "execution_count": 35,
   "metadata": {},
   "outputs": [],
   "source": [
    "X = df.drop(columns=[\"Mood_Impact\",\"User_ID\"])\n",
    "y = df[[\"Mood_Impact\"]]"
   ]
  },
  {
   "cell_type": "markdown",
   "metadata": {},
   "source": [
    "then split the data"
   ]
  },
  {
   "cell_type": "code",
   "execution_count": 36,
   "metadata": {},
   "outputs": [],
   "source": [
    "from sklearn.model_selection import train_test_split\n",
    "\n",
    "X_train, X_test, y_train, y_test = train_test_split(X,y,test_size=0.12, random_state=43)"
   ]
  },
  {
   "cell_type": "markdown",
   "metadata": {},
   "source": [
    "then we normalize the data with scaler.. the age and the hours\n",
    "\n",
    "edit : i will normalized after the encode"
   ]
  },
  {
   "cell_type": "code",
   "execution_count": 37,
   "metadata": {},
   "outputs": [],
   "source": [
    "# from sklearn.preprocessing import StandardScaler\n",
    "\n",
    "# scaler = StandardScaler()\n",
    "# need_to_scale = X.drop(columns=[\"Gender\",\"Favorite_Book_Genre\"])\n",
    "\n",
    "# df_normalized = scaler.fit_transform(need_to_scale)\n",
    "# df_normalized = pd.DataFrame(df_normalized, columns=need_to_scale.columns)\n",
    "# df_normalized[\"Gender\"] = X[\"Gender\"]\n",
    "\n",
    "# X_train,X_test = train_test_split(df_normalized, test_size=0.12, random_state=43)\n",
    "\n",
    "# print (X_train)\n",
    "# print (df[\"Favorite_Book_Genre\"]\n",
    "\n"
   ]
  },
  {
   "cell_type": "markdown",
   "metadata": {},
   "source": [
    "make the model"
   ]
  },
  {
   "cell_type": "code",
   "execution_count": 38,
   "metadata": {},
   "outputs": [
    {
     "name": "stderr",
     "output_type": "stream",
     "text": [
      "d:\\piton\\1sesuatuaja\\statistika\\.venv\\Lib\\site-packages\\sklearn\\neighbors\\_classification.py:238: DataConversionWarning: A column-vector y was passed when a 1d array was expected. Please change the shape of y to (n_samples,), for example using ravel().\n",
      "  return self._fit(X, y)\n"
     ]
    },
    {
     "name": "stdout",
     "output_type": "stream",
     "text": [
      "Your age is 23 old \n",
      "Your Gender is Male\n",
      "Your Weekly Reading Time in Hours is 4 Hours\n",
      "Your Genre Book is fantasy which is [0, 1, 0, 0, 0, 0, 0]\n"
     ]
    }
   ],
   "source": [
    "from sklearn.neighbors import KNeighborsClassifier\n",
    "\n",
    "knn = KNeighborsClassifier(n_neighbors=3)\n",
    "knn.fit(X_train, y_train)\n",
    "\n",
    "from sklearn.metrics import accuracy_score, classification_report\n",
    "y_pred = knn.predict(X_test)\n",
    "\n",
    "def Your_Age():\n",
    "    try:\n",
    "        age = int(input(\"What is your age? \"))\n",
    "        print (f\"Your age is {age} old \")\n",
    "        return age\n",
    "    except ValueError:\n",
    "        print (\"Please only number... try again...\")\n",
    "        return Your_Age()\n",
    "    \n",
    "def Your_Gender():\n",
    "    gender = input(\"What is your gender? male or female? \")\n",
    "    if gender in [\"Male\", \"m\", \"male\", \"M\"]:\n",
    "        print (\"Your Gender is Male\")\n",
    "        return 1\n",
    "    elif gender in [\"Female\", \"female\", \"f\", \"F\"] :\n",
    "        print (\"Your Gender is Female\")\n",
    "        return 0\n",
    "    else :\n",
    "        print (\"We only have 2 gender which is male and female... please try again...\")\n",
    "        return Your_Gender()\n",
    "    \n",
    "def Your_Weekly_Reading_Time():\n",
    "    try :\n",
    "        time = int(input(\"How much your time in hours in this week? \"))\n",
    "        print (f\"Your Weekly Reading Time in Hours is {time} Hours\")\n",
    "        return time\n",
    "    except ValueError:\n",
    "        print (\"Just put the number of your hourly reading... please try again\")\n",
    "        return Your_Weekly_Reading_Time()\n",
    "\n",
    "def Your_Books_Genre() :\n",
    "    mapping = {\n",
    "        \"Fiction\"      : [0,\t0,\t1,\t0,\t0,\t0,\t0],\n",
    "        \"fiction\"       : [0,\t0,\t1,\t0,\t0,\t0,\t0],\n",
    "        \"Biography\"  : [1,   0,\t0,\t0,\t0,\t0,\t0],\n",
    "        \"biography\" : [1,   0,\t0,\t0,\t0,\t0,\t0],\n",
    "        \"Fantasy\"     : [0,\t1,\t0,\t0,\t0,\t0,\t0],\n",
    "        \"fantasy\" : [0,\t1,\t0,\t0,\t0,\t0,\t0],\n",
    "        \"History\" : [0,\t0,\t0,\t1,\t0,\t0,\t0],\n",
    "        \"history\"      : [0,\t0,\t0,\t1,\t0,\t0,\t0],\n",
    "        \"Romance\"      : [0,\t0,\t0,\t0,\t1,\t0,\t0],\n",
    "        \"romance\" : [0,\t0,\t0,\t0,\t1,\t0,\t0],\n",
    "        \"Science\"     : [0,\t0,\t0,\t0,\t0,\t1,\t0],\n",
    "        \"science\" : [0,\t0,\t0,\t0,\t0,\t1,\t0],\n",
    "        \"Self-Help\"  : [0,\t0,\t0,\t0,\t0,\t0,\t1],\n",
    "        \"self-help\"  : [0,\t0,\t0,\t0,\t0,\t0,\t1]\n",
    "    }\n",
    "    try :\n",
    "        genre = input(\"Your Book Genre? (Fiction, Biography, Fantasy, History, Romance, Science, Self-Help)? \")\n",
    "        if genre in mapping : \n",
    "            one_hot_user = mapping[genre]\n",
    "            print (f\"Your Genre Book is {genre} which is {one_hot_user}\")\n",
    "            return one_hot_user\n",
    "        else :\n",
    "            print (\"Please input avaliable category... please try again\")\n",
    "            return Your_Books_Genre()\n",
    "    except Exception as e : \n",
    "        print(f\"eror : {e}\")\n",
    "        return Your_Books_Genre()\n",
    "\n",
    "\n",
    "age = Your_Age()\n",
    "gender = Your_Gender()\n",
    "weekly = Your_Weekly_Reading_Time()\n",
    "genre = Your_Books_Genre()\n"
   ]
  },
  {
   "cell_type": "markdown",
   "metadata": {},
   "source": [
    "fyuhh its done the input now.... lets make it a new data"
   ]
  },
  {
   "cell_type": "code",
   "execution_count": 43,
   "metadata": {},
   "outputs": [
    {
     "name": "stdout",
     "output_type": "stream",
     "text": [
      "[[-1.06881009 -0.23956624]]\n",
      "-------------------------------------------\n",
      "       Age  Gender  Weekly_Reading_Time(hours)  Genre_Biography  \\\n",
      "0 -1.06881       1                   -0.239566                0   \n",
      "\n",
      "   Genre_Fantasy  Genre_Fiction  Genre_History  Genre_Romance  Genre_Science  \\\n",
      "0              1              0              0              0              0   \n",
      "\n",
      "   Genre_Self-Help  \n",
      "0                0  \n"
     ]
    }
   ],
   "source": [
    "# age = scaler.fit_transform(age)\n",
    "# weekly = scaler.fit_transform(weekly)\n",
    "\n",
    "new_data_for_scale = pd.DataFrame({\n",
    "    'Age' : [age],\n",
    "    'Weekly_Reading_Time(hours)' : [weekly],\n",
    "\n",
    "})\n",
    "new_scaled_data = scaler.transform(new_data_for_scale)\n",
    "print (new_scaled_data)\n",
    "print (\"-------------------------------------------\")\n",
    "\n",
    "new_data = pd.DataFrame({\n",
    "    'Age' : [new_scaled_data[0,0]],\n",
    "    'Gender' : [gender],\n",
    "    'Weekly_Reading_Time(hours)' : [new_scaled_data[0,1]],\n",
    "    'Genre_Biography' : [genre[0]],\n",
    "    'Genre_Fantasy' : [genre[1]],\n",
    "    'Genre_Fiction' : [genre[2]],\n",
    "    'Genre_History' : [genre[3]],\n",
    "    'Genre_Romance' : [genre[4]],\n",
    "    'Genre_Science' : [genre[5]],\n",
    "    'Genre_Self-Help' : [genre[6]]\n",
    "})\n",
    "\n",
    "print (new_data)"
   ]
  },
  {
   "cell_type": "markdown",
   "metadata": {},
   "source": [
    "thanksss GODDD\n",
    "alr lets scale them again\n",
    "\n",
    "\n",
    "edit : fohwjojfjhouwej lets goooo"
   ]
  },
  {
   "cell_type": "markdown",
   "metadata": {},
   "source": [
    "lets predict the mood"
   ]
  },
  {
   "cell_type": "code",
   "execution_count": 48,
   "metadata": {},
   "outputs": [
    {
     "name": "stdout",
     "output_type": "stream",
     "text": [
      "Your Mood Impact is Positive\n"
     ]
    }
   ],
   "source": [
    "predict = knn.predict(new_data)\n",
    "\n",
    "a = \"helo\"\n",
    "if predict == 2 :\n",
    "    a = \"Positive\"\n",
    "elif  predict == 1 :\n",
    "    a = \"Neutral\"\n",
    "else:\n",
    "    a = \"Negative\"\n",
    "print(f\"Your Mood Impact is {a}\")"
   ]
  }
 ],
 "metadata": {
  "kernelspec": {
   "display_name": ".venv",
   "language": "python",
   "name": "python3"
  },
  "language_info": {
   "codemirror_mode": {
    "name": "ipython",
    "version": 3
   },
   "file_extension": ".py",
   "mimetype": "text/x-python",
   "name": "python",
   "nbconvert_exporter": "python",
   "pygments_lexer": "ipython3",
   "version": "3.11.9"
  }
 },
 "nbformat": 4,
 "nbformat_minor": 2
}
